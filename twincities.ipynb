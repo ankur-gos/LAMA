{
 "cells": [
  {
   "cell_type": "code",
   "execution_count": 49,
   "metadata": {},
   "outputs": [],
   "source": [
    "import pickle\n",
    "import pprint\n",
    "import pandas as pd"
   ]
  },
  {
   "cell_type": "code",
   "execution_count": 50,
   "metadata": {},
   "outputs": [],
   "source": [
    "def open_pkl(file_path):\n",
    "    results = pickle.load(open(file_path, 'rb'))\n",
    "    return results"
   ]
  },
  {
   "cell_type": "code",
   "execution_count": 51,
   "metadata": {},
   "outputs": [],
   "source": [
    "results = open_pkl('./output2/results/bert_large/P190/result.pkl')"
   ]
  },
  {
   "cell_type": "code",
   "execution_count": 52,
   "metadata": {},
   "outputs": [],
   "source": [
    "df = pd.DataFrame(results)"
   ]
  },
  {
   "cell_type": "code",
   "execution_count": 53,
   "metadata": {},
   "outputs": [
    {
     "data": {
      "text/html": [
       "<div>\n",
       "<style scoped>\n",
       "    .dataframe tbody tr th:only-of-type {\n",
       "        vertical-align: middle;\n",
       "    }\n",
       "\n",
       "    .dataframe tbody tr th {\n",
       "        vertical-align: top;\n",
       "    }\n",
       "\n",
       "    .dataframe thead th {\n",
       "        text-align: right;\n",
       "    }\n",
       "</style>\n",
       "<table border=\"1\" class=\"dataframe\">\n",
       "  <thead>\n",
       "    <tr style=\"text-align: right;\">\n",
       "      <th></th>\n",
       "      <th>list_of_results</th>\n",
       "      <th>global_MRR</th>\n",
       "      <th>global_P_at_10</th>\n",
       "    </tr>\n",
       "  </thead>\n",
       "  <tbody>\n",
       "    <tr>\n",
       "      <th>0</th>\n",
       "      <td>{'sample': {'sub_label': 'Valencia', 'obj_labe...</td>\n",
       "      <td>0.072163</td>\n",
       "      <td>0.175403</td>\n",
       "    </tr>\n",
       "    <tr>\n",
       "      <th>1</th>\n",
       "      <td>{'sample': {'sub_label': 'Istanbul', 'obj_labe...</td>\n",
       "      <td>0.072163</td>\n",
       "      <td>0.175403</td>\n",
       "    </tr>\n",
       "    <tr>\n",
       "      <th>2</th>\n",
       "      <td>{'sample': {'sub_label': 'Bangkok', 'obj_label...</td>\n",
       "      <td>0.072163</td>\n",
       "      <td>0.175403</td>\n",
       "    </tr>\n",
       "    <tr>\n",
       "      <th>3</th>\n",
       "      <td>{'sample': {'sub_label': 'Kiev', 'obj_label': ...</td>\n",
       "      <td>0.072163</td>\n",
       "      <td>0.175403</td>\n",
       "    </tr>\n",
       "    <tr>\n",
       "      <th>4</th>\n",
       "      <td>{'sample': {'sub_label': 'Budapest', 'obj_labe...</td>\n",
       "      <td>0.072163</td>\n",
       "      <td>0.175403</td>\n",
       "    </tr>\n",
       "  </tbody>\n",
       "</table>\n",
       "</div>"
      ],
      "text/plain": [
       "                                     list_of_results  global_MRR  \\\n",
       "0  {'sample': {'sub_label': 'Valencia', 'obj_labe...    0.072163   \n",
       "1  {'sample': {'sub_label': 'Istanbul', 'obj_labe...    0.072163   \n",
       "2  {'sample': {'sub_label': 'Bangkok', 'obj_label...    0.072163   \n",
       "3  {'sample': {'sub_label': 'Kiev', 'obj_label': ...    0.072163   \n",
       "4  {'sample': {'sub_label': 'Budapest', 'obj_labe...    0.072163   \n",
       "\n",
       "   global_P_at_10  \n",
       "0        0.175403  \n",
       "1        0.175403  \n",
       "2        0.175403  \n",
       "3        0.175403  \n",
       "4        0.175403  "
      ]
     },
     "execution_count": 53,
     "metadata": {},
     "output_type": "execute_result"
    }
   ],
   "source": [
    "df.head()"
   ]
  },
  {
   "cell_type": "code",
   "execution_count": 60,
   "metadata": {},
   "outputs": [
    {
     "data": {
      "text/plain": [
       "{'sub_label': 'Rimini',\n",
       " 'obj_label': 'Venice',\n",
       " 'masked_sentences': ['Rimini and [MASK] are twin cities .'],\n",
       " 'uuid': 12}"
      ]
     },
     "execution_count": 60,
     "metadata": {},
     "output_type": "execute_result"
    }
   ],
   "source": [
    "df.loc[10]['list_of_results']['sample']#['sample']['sub_label'] == 'Valencia']"
   ]
  },
  {
   "cell_type": "code",
   "execution_count": 61,
   "metadata": {},
   "outputs": [],
   "source": [
    "def print_ex(df, query):\n",
    "    for ind, row in df.iterrows():\n",
    "        if row['list_of_results']['sample']['sub_label'] == query:\n",
    "            print(row['list_of_results']['sample'])\n",
    "            print(row['list_of_results']['masked_topk']['topk'][:10])\n",
    "            print('------')"
   ]
  },
  {
   "cell_type": "code",
   "execution_count": 63,
   "metadata": {},
   "outputs": [
    {
     "name": "stdout",
     "output_type": "stream",
     "text": [
      "{'sub_label': 'Rimini', 'obj_label': 'Venice', 'masked_sentences': ['Rimini and [MASK] are twin cities .'], 'uuid': 12}\n",
      "[{'i': 0, 'token_idx': 3352, 'log_prob': -2.0003795623779297, 'token_word_form': 'Rome'}, {'i': 1, 'token_idx': 6390, 'log_prob': -2.0281944274902344, 'token_word_form': 'Milan'}, {'i': 2, 'token_idx': 10431, 'log_prob': -2.5613107681274414, 'token_word_form': 'Naples'}, {'i': 3, 'token_idx': 7205, 'log_prob': -2.570836067199707, 'token_word_form': 'Florence'}, {'i': 4, 'token_idx': 7433, 'log_prob': -2.6162071228027344, 'token_word_form': 'Venice'}, {'i': 5, 'token_idx': 20250, 'log_prob': -3.284578323364258, 'token_word_form': 'Palermo'}, {'i': 6, 'token_idx': 14283, 'log_prob': -3.341176986694336, 'token_word_form': 'Turin'}, {'i': 7, 'token_idx': 16745, 'log_prob': -3.3599586486816406, 'token_word_form': 'Genoa'}, {'i': 8, 'token_idx': 14865, 'log_prob': -3.4410219192504883, 'token_word_form': 'Bologna'}, {'i': 9, 'token_idx': 25788, 'log_prob': -3.4991226196289062, 'token_word_form': 'Bari'}]\n",
      "------\n"
     ]
    }
   ],
   "source": [
    "print_ex(df, 'Rimini')"
   ]
  },
  {
   "cell_type": "code",
   "execution_count": 36,
   "metadata": {},
   "outputs": [
    {
     "name": "stdout",
     "output_type": "stream",
     "text": [
      "{'sub_label': 'Valencia', 'obj_label': 'Mainz', 'masked_sentences': ['Valencia and [MASK] are twin cities .'], 'uuid': 0}\n",
      "[{'i': 0, 'token_idx': 6331, 'log_prob': -1.3134403228759766, 'token_word_form': 'Madrid'}, {'i': 1, 'token_idx': 7120, 'log_prob': -1.4839229583740234, 'token_word_form': 'Barcelona'}, {'i': 2, 'token_idx': 13697, 'log_prob': -1.6965398788452148, 'token_word_form': 'Valencia'}, {'i': 3, 'token_idx': 17795, 'log_prob': -3.149786949157715, 'token_word_form': 'Catalonia'}, {'i': 4, 'token_idx': 20768, 'log_prob': -4.091520309448242, 'token_word_form': 'Seville'}, {'i': 5, 'token_idx': 12410, 'log_prob': -4.545838356018066, 'token_word_form': 'Gibraltar'}, {'i': 6, 'token_idx': 17644, 'log_prob': -4.571778297424316, 'token_word_form': 'Granada'}, {'i': 7, 'token_idx': 13459, 'log_prob': -4.657580375671387, 'token_word_form': 'Toledo'}, {'i': 8, 'token_idx': 23947, 'log_prob': -4.701783180236816, 'token_word_form': 'Caracas'}, {'i': 9, 'token_idx': 11600, 'log_prob': -4.920201301574707, 'token_word_form': 'Vic'}]\n",
      "------\n",
      "{'sub_label': 'Valencia', 'obj_label': 'Valencia', 'masked_sentences': ['Valencia and [MASK] are twin cities .'], 'uuid': 303}\n",
      "[{'i': 0, 'token_idx': 6331, 'log_prob': -1.3134384155273438, 'token_word_form': 'Madrid'}, {'i': 1, 'token_idx': 7120, 'log_prob': -1.4839200973510742, 'token_word_form': 'Barcelona'}, {'i': 2, 'token_idx': 13697, 'log_prob': -1.6965465545654297, 'token_word_form': 'Valencia'}, {'i': 3, 'token_idx': 17795, 'log_prob': -3.1497888565063477, 'token_word_form': 'Catalonia'}, {'i': 4, 'token_idx': 20768, 'log_prob': -4.091521263122559, 'token_word_form': 'Seville'}, {'i': 5, 'token_idx': 12410, 'log_prob': -4.545836448669434, 'token_word_form': 'Gibraltar'}, {'i': 6, 'token_idx': 17644, 'log_prob': -4.571778297424316, 'token_word_form': 'Granada'}, {'i': 7, 'token_idx': 13459, 'log_prob': -4.6575822830200195, 'token_word_form': 'Toledo'}, {'i': 8, 'token_idx': 23947, 'log_prob': -4.7017822265625, 'token_word_form': 'Caracas'}, {'i': 9, 'token_idx': 11600, 'log_prob': -4.9202117919921875, 'token_word_form': 'Vic'}]\n",
      "------\n"
     ]
    }
   ],
   "source": [
    "for ind, row in df.iterrows():\n",
    "    if row['list_of_results']['sample']['sub_label'] == 'Valencia':\n",
    "        print(row['list_of_results']['sample'])\n",
    "        print(row['list_of_results']['masked_topk']['topk'][:10])\n",
    "        print('------')"
   ]
  },
  {
   "cell_type": "code",
   "execution_count": 34,
   "metadata": {},
   "outputs": [
    {
     "name": "stdout",
     "output_type": "stream",
     "text": [
      "{'sub_label': 'Istanbul', 'obj_label': 'Athens', 'masked_sentences': ['Istanbul and [MASK] are twin cities .'], 'uuid': 1}\n",
      "[{'i': 0, 'token_idx': 22206, 'log_prob': -0.33563232421875, 'token_word_form': 'Ankara'}, {'i': 1, 'token_idx': 10585, 'log_prob': -2.66546630859375, 'token_word_form': 'Istanbul'}, {'i': 2, 'token_idx': 25878, 'log_prob': -4.425223350524902, 'token_word_form': 'Thessaloniki'}, {'i': 3, 'token_idx': 7055, 'log_prob': -4.470682144165039, 'token_word_form': 'Athens'}, {'i': 4, 'token_idx': 2123, 'log_prob': -5.080801963806152, 'token_word_form': 'Paris'}, {'i': 5, 'token_idx': 17987, 'log_prob': -5.108146667480469, 'token_word_form': 'Baku'}, {'i': 6, 'token_idx': 16136, 'log_prob': -5.169983863830566, 'token_word_form': 'Beirut'}, {'i': 7, 'token_idx': 11086, 'log_prob': -5.184231758117676, 'token_word_form': 'Cairo'}, {'i': 8, 'token_idx': 26082, 'log_prob': -5.222877502441406, 'token_word_form': 'Yerevan'}, {'i': 9, 'token_idx': 13503, 'log_prob': -5.306474685668945, 'token_word_form': 'Lima'}]\n",
      "{'sub_label': 'Istanbul', 'obj_label': 'Guangzhou', 'masked_sentences': ['Istanbul and [MASK] are twin cities .'], 'uuid': 57}\n",
      "[{'i': 0, 'token_idx': 22206, 'log_prob': -0.33563232421875, 'token_word_form': 'Ankara'}, {'i': 1, 'token_idx': 10585, 'log_prob': -2.665464401245117, 'token_word_form': 'Istanbul'}, {'i': 2, 'token_idx': 25878, 'log_prob': -4.425225257873535, 'token_word_form': 'Thessaloniki'}, {'i': 3, 'token_idx': 7055, 'log_prob': -4.470684051513672, 'token_word_form': 'Athens'}, {'i': 4, 'token_idx': 2123, 'log_prob': -5.080798149108887, 'token_word_form': 'Paris'}, {'i': 5, 'token_idx': 17987, 'log_prob': -5.108146667480469, 'token_word_form': 'Baku'}, {'i': 6, 'token_idx': 16136, 'log_prob': -5.169981956481934, 'token_word_form': 'Beirut'}, {'i': 7, 'token_idx': 11086, 'log_prob': -5.184229850769043, 'token_word_form': 'Cairo'}, {'i': 8, 'token_idx': 26082, 'log_prob': -5.222883224487305, 'token_word_form': 'Yerevan'}, {'i': 9, 'token_idx': 13503, 'log_prob': -5.3064727783203125, 'token_word_form': 'Lima'}]\n",
      "{'sub_label': 'Istanbul', 'obj_label': 'Amsterdam', 'masked_sentences': ['Istanbul and [MASK] are twin cities .'], 'uuid': 128}\n",
      "[{'i': 0, 'token_idx': 22206, 'log_prob': -0.33563232421875, 'token_word_form': 'Ankara'}, {'i': 1, 'token_idx': 10585, 'log_prob': -2.66546630859375, 'token_word_form': 'Istanbul'}, {'i': 2, 'token_idx': 25878, 'log_prob': -4.425223350524902, 'token_word_form': 'Thessaloniki'}, {'i': 3, 'token_idx': 7055, 'log_prob': -4.470682144165039, 'token_word_form': 'Athens'}, {'i': 4, 'token_idx': 2123, 'log_prob': -5.080801963806152, 'token_word_form': 'Paris'}, {'i': 5, 'token_idx': 17987, 'log_prob': -5.108146667480469, 'token_word_form': 'Baku'}, {'i': 6, 'token_idx': 16136, 'log_prob': -5.169983863830566, 'token_word_form': 'Beirut'}, {'i': 7, 'token_idx': 11086, 'log_prob': -5.184231758117676, 'token_word_form': 'Cairo'}, {'i': 8, 'token_idx': 26082, 'log_prob': -5.222877502441406, 'token_word_form': 'Yerevan'}, {'i': 9, 'token_idx': 13503, 'log_prob': -5.306474685668945, 'token_word_form': 'Lima'}]\n",
      "{'sub_label': 'Istanbul', 'obj_label': 'Florence', 'masked_sentences': ['Istanbul and [MASK] are twin cities .'], 'uuid': 162}\n",
      "[{'i': 0, 'token_idx': 22206, 'log_prob': -0.33563232421875, 'token_word_form': 'Ankara'}, {'i': 1, 'token_idx': 10585, 'log_prob': -2.66546630859375, 'token_word_form': 'Istanbul'}, {'i': 2, 'token_idx': 25878, 'log_prob': -4.425223350524902, 'token_word_form': 'Thessaloniki'}, {'i': 3, 'token_idx': 7055, 'log_prob': -4.470682144165039, 'token_word_form': 'Athens'}, {'i': 4, 'token_idx': 2123, 'log_prob': -5.080801963806152, 'token_word_form': 'Paris'}, {'i': 5, 'token_idx': 17987, 'log_prob': -5.108146667480469, 'token_word_form': 'Baku'}, {'i': 6, 'token_idx': 16136, 'log_prob': -5.169983863830566, 'token_word_form': 'Beirut'}, {'i': 7, 'token_idx': 11086, 'log_prob': -5.184231758117676, 'token_word_form': 'Cairo'}, {'i': 8, 'token_idx': 26082, 'log_prob': -5.222877502441406, 'token_word_form': 'Yerevan'}, {'i': 9, 'token_idx': 13503, 'log_prob': -5.306474685668945, 'token_word_form': 'Lima'}]\n",
      "{'sub_label': 'Istanbul', 'obj_label': 'Bucharest', 'masked_sentences': ['Istanbul and [MASK] are twin cities .'], 'uuid': 166}\n",
      "[{'i': 0, 'token_idx': 22206, 'log_prob': -0.33563232421875, 'token_word_form': 'Ankara'}, {'i': 1, 'token_idx': 10585, 'log_prob': -2.66546630859375, 'token_word_form': 'Istanbul'}, {'i': 2, 'token_idx': 25878, 'log_prob': -4.425223350524902, 'token_word_form': 'Thessaloniki'}, {'i': 3, 'token_idx': 7055, 'log_prob': -4.470682144165039, 'token_word_form': 'Athens'}, {'i': 4, 'token_idx': 2123, 'log_prob': -5.080801963806152, 'token_word_form': 'Paris'}, {'i': 5, 'token_idx': 17987, 'log_prob': -5.108146667480469, 'token_word_form': 'Baku'}, {'i': 6, 'token_idx': 16136, 'log_prob': -5.169983863830566, 'token_word_form': 'Beirut'}, {'i': 7, 'token_idx': 11086, 'log_prob': -5.184231758117676, 'token_word_form': 'Cairo'}, {'i': 8, 'token_idx': 26082, 'log_prob': -5.222877502441406, 'token_word_form': 'Yerevan'}, {'i': 9, 'token_idx': 13503, 'log_prob': -5.306474685668945, 'token_word_form': 'Lima'}]\n",
      "{'sub_label': 'Istanbul', 'obj_label': 'Cairo', 'masked_sentences': ['Istanbul and [MASK] are twin cities .'], 'uuid': 246}\n",
      "[{'i': 0, 'token_idx': 22206, 'log_prob': -0.33563232421875, 'token_word_form': 'Ankara'}, {'i': 1, 'token_idx': 10585, 'log_prob': -2.665464401245117, 'token_word_form': 'Istanbul'}, {'i': 2, 'token_idx': 25878, 'log_prob': -4.425225257873535, 'token_word_form': 'Thessaloniki'}, {'i': 3, 'token_idx': 7055, 'log_prob': -4.470684051513672, 'token_word_form': 'Athens'}, {'i': 4, 'token_idx': 2123, 'log_prob': -5.080798149108887, 'token_word_form': 'Paris'}, {'i': 5, 'token_idx': 17987, 'log_prob': -5.108146667480469, 'token_word_form': 'Baku'}, {'i': 6, 'token_idx': 16136, 'log_prob': -5.169981956481934, 'token_word_form': 'Beirut'}, {'i': 7, 'token_idx': 11086, 'log_prob': -5.184229850769043, 'token_word_form': 'Cairo'}, {'i': 8, 'token_idx': 26082, 'log_prob': -5.222883224487305, 'token_word_form': 'Yerevan'}, {'i': 9, 'token_idx': 13503, 'log_prob': -5.3064727783203125, 'token_word_form': 'Lima'}]\n",
      "{'sub_label': 'Istanbul', 'obj_label': 'Lahore', 'masked_sentences': ['Istanbul and [MASK] are twin cities .'], 'uuid': 259}\n",
      "[{'i': 0, 'token_idx': 22206, 'log_prob': -0.33563232421875, 'token_word_form': 'Ankara'}, {'i': 1, 'token_idx': 10585, 'log_prob': -2.665464401245117, 'token_word_form': 'Istanbul'}, {'i': 2, 'token_idx': 25878, 'log_prob': -4.425225257873535, 'token_word_form': 'Thessaloniki'}, {'i': 3, 'token_idx': 7055, 'log_prob': -4.470684051513672, 'token_word_form': 'Athens'}, {'i': 4, 'token_idx': 2123, 'log_prob': -5.080798149108887, 'token_word_form': 'Paris'}, {'i': 5, 'token_idx': 17987, 'log_prob': -5.108146667480469, 'token_word_form': 'Baku'}, {'i': 6, 'token_idx': 16136, 'log_prob': -5.169981956481934, 'token_word_form': 'Beirut'}, {'i': 7, 'token_idx': 11086, 'log_prob': -5.184229850769043, 'token_word_form': 'Cairo'}, {'i': 8, 'token_idx': 26082, 'log_prob': -5.222883224487305, 'token_word_form': 'Yerevan'}, {'i': 9, 'token_idx': 13503, 'log_prob': -5.3064727783203125, 'token_word_form': 'Lima'}]\n",
      "{'sub_label': 'Istanbul', 'obj_label': 'Toronto', 'masked_sentences': ['Istanbul and [MASK] are twin cities .'], 'uuid': 351}\n",
      "[{'i': 0, 'token_idx': 22206, 'log_prob': -0.33563232421875, 'token_word_form': 'Ankara'}, {'i': 1, 'token_idx': 10585, 'log_prob': -2.665464401245117, 'token_word_form': 'Istanbul'}, {'i': 2, 'token_idx': 25878, 'log_prob': -4.425225257873535, 'token_word_form': 'Thessaloniki'}, {'i': 3, 'token_idx': 7055, 'log_prob': -4.470684051513672, 'token_word_form': 'Athens'}, {'i': 4, 'token_idx': 2123, 'log_prob': -5.080798149108887, 'token_word_form': 'Paris'}, {'i': 5, 'token_idx': 17987, 'log_prob': -5.108146667480469, 'token_word_form': 'Baku'}, {'i': 6, 'token_idx': 16136, 'log_prob': -5.169981956481934, 'token_word_form': 'Beirut'}, {'i': 7, 'token_idx': 11086, 'log_prob': -5.184229850769043, 'token_word_form': 'Cairo'}, {'i': 8, 'token_idx': 26082, 'log_prob': -5.222883224487305, 'token_word_form': 'Yerevan'}, {'i': 9, 'token_idx': 13503, 'log_prob': -5.3064727783203125, 'token_word_form': 'Lima'}]\n",
      "{'sub_label': 'Istanbul', 'obj_label': 'Cologne', 'masked_sentences': ['Istanbul and [MASK] are twin cities .'], 'uuid': 354}\n",
      "[{'i': 0, 'token_idx': 22206, 'log_prob': -0.33563232421875, 'token_word_form': 'Ankara'}, {'i': 1, 'token_idx': 10585, 'log_prob': -2.665464401245117, 'token_word_form': 'Istanbul'}, {'i': 2, 'token_idx': 25878, 'log_prob': -4.425225257873535, 'token_word_form': 'Thessaloniki'}, {'i': 3, 'token_idx': 7055, 'log_prob': -4.470684051513672, 'token_word_form': 'Athens'}, {'i': 4, 'token_idx': 2123, 'log_prob': -5.080798149108887, 'token_word_form': 'Paris'}, {'i': 5, 'token_idx': 17987, 'log_prob': -5.108146667480469, 'token_word_form': 'Baku'}, {'i': 6, 'token_idx': 16136, 'log_prob': -5.169981956481934, 'token_word_form': 'Beirut'}, {'i': 7, 'token_idx': 11086, 'log_prob': -5.184229850769043, 'token_word_form': 'Cairo'}, {'i': 8, 'token_idx': 26082, 'log_prob': -5.222883224487305, 'token_word_form': 'Yerevan'}, {'i': 9, 'token_idx': 13503, 'log_prob': -5.3064727783203125, 'token_word_form': 'Lima'}]\n",
      "{'sub_label': 'Istanbul', 'obj_label': 'Vilnius', 'masked_sentences': ['Istanbul and [MASK] are twin cities .'], 'uuid': 368}\n",
      "[{'i': 0, 'token_idx': 22206, 'log_prob': -0.33563232421875, 'token_word_form': 'Ankara'}, {'i': 1, 'token_idx': 10585, 'log_prob': -2.665464401245117, 'token_word_form': 'Istanbul'}, {'i': 2, 'token_idx': 25878, 'log_prob': -4.425225257873535, 'token_word_form': 'Thessaloniki'}, {'i': 3, 'token_idx': 7055, 'log_prob': -4.470684051513672, 'token_word_form': 'Athens'}, {'i': 4, 'token_idx': 2123, 'log_prob': -5.080798149108887, 'token_word_form': 'Paris'}, {'i': 5, 'token_idx': 17987, 'log_prob': -5.108146667480469, 'token_word_form': 'Baku'}, {'i': 6, 'token_idx': 16136, 'log_prob': -5.169981956481934, 'token_word_form': 'Beirut'}, {'i': 7, 'token_idx': 11086, 'log_prob': -5.184229850769043, 'token_word_form': 'Cairo'}, {'i': 8, 'token_idx': 26082, 'log_prob': -5.222883224487305, 'token_word_form': 'Yerevan'}, {'i': 9, 'token_idx': 13503, 'log_prob': -5.3064727783203125, 'token_word_form': 'Lima'}]\n",
      "{'sub_label': 'Istanbul', 'obj_label': 'Sarajevo', 'masked_sentences': ['Istanbul and [MASK] are twin cities .'], 'uuid': 427}\n",
      "[{'i': 0, 'token_idx': 22206, 'log_prob': -0.33563232421875, 'token_word_form': 'Ankara'}, {'i': 1, 'token_idx': 10585, 'log_prob': -2.665464401245117, 'token_word_form': 'Istanbul'}, {'i': 2, 'token_idx': 25878, 'log_prob': -4.425225257873535, 'token_word_form': 'Thessaloniki'}, {'i': 3, 'token_idx': 7055, 'log_prob': -4.470684051513672, 'token_word_form': 'Athens'}, {'i': 4, 'token_idx': 2123, 'log_prob': -5.080798149108887, 'token_word_form': 'Paris'}, {'i': 5, 'token_idx': 17987, 'log_prob': -5.108146667480469, 'token_word_form': 'Baku'}, {'i': 6, 'token_idx': 16136, 'log_prob': -5.169981956481934, 'token_word_form': 'Beirut'}, {'i': 7, 'token_idx': 11086, 'log_prob': -5.184229850769043, 'token_word_form': 'Cairo'}, {'i': 8, 'token_idx': 26082, 'log_prob': -5.222883224487305, 'token_word_form': 'Yerevan'}, {'i': 9, 'token_idx': 13503, 'log_prob': -5.3064727783203125, 'token_word_form': 'Lima'}]\n",
      "{'sub_label': 'Istanbul', 'obj_label': 'Stockholm', 'masked_sentences': ['Istanbul and [MASK] are twin cities .'], 'uuid': 552}\n",
      "[{'i': 0, 'token_idx': 22206, 'log_prob': -0.33563232421875, 'token_word_form': 'Ankara'}, {'i': 1, 'token_idx': 10585, 'log_prob': -2.665464401245117, 'token_word_form': 'Istanbul'}, {'i': 2, 'token_idx': 25878, 'log_prob': -4.425225257873535, 'token_word_form': 'Thessaloniki'}, {'i': 3, 'token_idx': 7055, 'log_prob': -4.470684051513672, 'token_word_form': 'Athens'}, {'i': 4, 'token_idx': 2123, 'log_prob': -5.080798149108887, 'token_word_form': 'Paris'}, {'i': 5, 'token_idx': 17987, 'log_prob': -5.108146667480469, 'token_word_form': 'Baku'}, {'i': 6, 'token_idx': 16136, 'log_prob': -5.169981956481934, 'token_word_form': 'Beirut'}, {'i': 7, 'token_idx': 11086, 'log_prob': -5.184229850769043, 'token_word_form': 'Cairo'}, {'i': 8, 'token_idx': 26082, 'log_prob': -5.222883224487305, 'token_word_form': 'Yerevan'}, {'i': 9, 'token_idx': 13503, 'log_prob': -5.3064727783203125, 'token_word_form': 'Lima'}]\n",
      "{'sub_label': 'Istanbul', 'obj_label': 'Beirut', 'masked_sentences': ['Istanbul and [MASK] are twin cities .'], 'uuid': 568}\n",
      "[{'i': 0, 'token_idx': 22206, 'log_prob': -0.33563232421875, 'token_word_form': 'Ankara'}, {'i': 1, 'token_idx': 10585, 'log_prob': -2.665464401245117, 'token_word_form': 'Istanbul'}, {'i': 2, 'token_idx': 25878, 'log_prob': -4.425225257873535, 'token_word_form': 'Thessaloniki'}, {'i': 3, 'token_idx': 7055, 'log_prob': -4.470684051513672, 'token_word_form': 'Athens'}, {'i': 4, 'token_idx': 2123, 'log_prob': -5.080798149108887, 'token_word_form': 'Paris'}, {'i': 5, 'token_idx': 17987, 'log_prob': -5.108146667480469, 'token_word_form': 'Baku'}, {'i': 6, 'token_idx': 16136, 'log_prob': -5.169981956481934, 'token_word_form': 'Beirut'}, {'i': 7, 'token_idx': 11086, 'log_prob': -5.184229850769043, 'token_word_form': 'Cairo'}, {'i': 8, 'token_idx': 26082, 'log_prob': -5.222883224487305, 'token_word_form': 'Yerevan'}, {'i': 9, 'token_idx': 13503, 'log_prob': -5.3064727783203125, 'token_word_form': 'Lima'}]\n",
      "{'sub_label': 'Istanbul', 'obj_label': 'Dubai', 'masked_sentences': ['Istanbul and [MASK] are twin cities .'], 'uuid': 687}\n",
      "[{'i': 0, 'token_idx': 22206, 'log_prob': -0.33563232421875, 'token_word_form': 'Ankara'}, {'i': 1, 'token_idx': 10585, 'log_prob': -2.665464401245117, 'token_word_form': 'Istanbul'}, {'i': 2, 'token_idx': 25878, 'log_prob': -4.425225257873535, 'token_word_form': 'Thessaloniki'}, {'i': 3, 'token_idx': 7055, 'log_prob': -4.470684051513672, 'token_word_form': 'Athens'}, {'i': 4, 'token_idx': 2123, 'log_prob': -5.080798149108887, 'token_word_form': 'Paris'}, {'i': 5, 'token_idx': 17987, 'log_prob': -5.108146667480469, 'token_word_form': 'Baku'}, {'i': 6, 'token_idx': 16136, 'log_prob': -5.169981956481934, 'token_word_form': 'Beirut'}, {'i': 7, 'token_idx': 11086, 'log_prob': -5.184229850769043, 'token_word_form': 'Cairo'}, {'i': 8, 'token_idx': 26082, 'log_prob': -5.222883224487305, 'token_word_form': 'Yerevan'}, {'i': 9, 'token_idx': 13503, 'log_prob': -5.3064727783203125, 'token_word_form': 'Lima'}]\n",
      "{'sub_label': 'Istanbul', 'obj_label': 'Vienna', 'masked_sentences': ['Istanbul and [MASK] are twin cities .'], 'uuid': 699}\n",
      "[{'i': 0, 'token_idx': 22206, 'log_prob': -0.33563232421875, 'token_word_form': 'Ankara'}, {'i': 1, 'token_idx': 10585, 'log_prob': -2.665464401245117, 'token_word_form': 'Istanbul'}, {'i': 2, 'token_idx': 25878, 'log_prob': -4.425225257873535, 'token_word_form': 'Thessaloniki'}, {'i': 3, 'token_idx': 7055, 'log_prob': -4.470684051513672, 'token_word_form': 'Athens'}, {'i': 4, 'token_idx': 2123, 'log_prob': -5.080798149108887, 'token_word_form': 'Paris'}, {'i': 5, 'token_idx': 17987, 'log_prob': -5.108146667480469, 'token_word_form': 'Baku'}, {'i': 6, 'token_idx': 16136, 'log_prob': -5.169981956481934, 'token_word_form': 'Beirut'}, {'i': 7, 'token_idx': 11086, 'log_prob': -5.184229850769043, 'token_word_form': 'Cairo'}, {'i': 8, 'token_idx': 26082, 'log_prob': -5.222883224487305, 'token_word_form': 'Yerevan'}, {'i': 9, 'token_idx': 13503, 'log_prob': -5.3064727783203125, 'token_word_form': 'Lima'}]\n",
      "{'sub_label': 'Istanbul', 'obj_label': 'Tbilisi', 'masked_sentences': ['Istanbul and [MASK] are twin cities .'], 'uuid': 707}\n",
      "[{'i': 0, 'token_idx': 22206, 'log_prob': -0.33563232421875, 'token_word_form': 'Ankara'}, {'i': 1, 'token_idx': 10585, 'log_prob': -2.665464401245117, 'token_word_form': 'Istanbul'}, {'i': 2, 'token_idx': 25878, 'log_prob': -4.425225257873535, 'token_word_form': 'Thessaloniki'}, {'i': 3, 'token_idx': 7055, 'log_prob': -4.470684051513672, 'token_word_form': 'Athens'}, {'i': 4, 'token_idx': 2123, 'log_prob': -5.080798149108887, 'token_word_form': 'Paris'}, {'i': 5, 'token_idx': 17987, 'log_prob': -5.108146667480469, 'token_word_form': 'Baku'}, {'i': 6, 'token_idx': 16136, 'log_prob': -5.169981956481934, 'token_word_form': 'Beirut'}, {'i': 7, 'token_idx': 11086, 'log_prob': -5.184229850769043, 'token_word_form': 'Cairo'}, {'i': 8, 'token_idx': 26082, 'log_prob': -5.222883224487305, 'token_word_form': 'Yerevan'}, {'i': 9, 'token_idx': 13503, 'log_prob': -5.3064727783203125, 'token_word_form': 'Lima'}]\n",
      "{'sub_label': 'Istanbul', 'obj_label': 'Tirana', 'masked_sentences': ['Istanbul and [MASK] are twin cities .'], 'uuid': 713}\n",
      "[{'i': 0, 'token_idx': 22206, 'log_prob': -0.33563232421875, 'token_word_form': 'Ankara'}, {'i': 1, 'token_idx': 10585, 'log_prob': -2.665464401245117, 'token_word_form': 'Istanbul'}, {'i': 2, 'token_idx': 25878, 'log_prob': -4.425225257873535, 'token_word_form': 'Thessaloniki'}, {'i': 3, 'token_idx': 7055, 'log_prob': -4.470684051513672, 'token_word_form': 'Athens'}, {'i': 4, 'token_idx': 2123, 'log_prob': -5.080798149108887, 'token_word_form': 'Paris'}, {'i': 5, 'token_idx': 17987, 'log_prob': -5.108146667480469, 'token_word_form': 'Baku'}, {'i': 6, 'token_idx': 16136, 'log_prob': -5.169981956481934, 'token_word_form': 'Beirut'}, {'i': 7, 'token_idx': 11086, 'log_prob': -5.184229850769043, 'token_word_form': 'Cairo'}, {'i': 8, 'token_idx': 26082, 'log_prob': -5.222883224487305, 'token_word_form': 'Yerevan'}, {'i': 9, 'token_idx': 13503, 'log_prob': -5.3064727783203125, 'token_word_form': 'Lima'}]\n",
      "{'sub_label': 'Istanbul', 'obj_label': 'Warsaw', 'masked_sentences': ['Istanbul and [MASK] are twin cities .'], 'uuid': 726}\n",
      "[{'i': 0, 'token_idx': 22206, 'log_prob': -0.33563232421875, 'token_word_form': 'Ankara'}, {'i': 1, 'token_idx': 10585, 'log_prob': -2.665464401245117, 'token_word_form': 'Istanbul'}, {'i': 2, 'token_idx': 25878, 'log_prob': -4.425225257873535, 'token_word_form': 'Thessaloniki'}, {'i': 3, 'token_idx': 7055, 'log_prob': -4.470684051513672, 'token_word_form': 'Athens'}, {'i': 4, 'token_idx': 2123, 'log_prob': -5.080798149108887, 'token_word_form': 'Paris'}, {'i': 5, 'token_idx': 17987, 'log_prob': -5.108146667480469, 'token_word_form': 'Baku'}, {'i': 6, 'token_idx': 16136, 'log_prob': -5.169981956481934, 'token_word_form': 'Beirut'}, {'i': 7, 'token_idx': 11086, 'log_prob': -5.184229850769043, 'token_word_form': 'Cairo'}, {'i': 8, 'token_idx': 26082, 'log_prob': -5.222883224487305, 'token_word_form': 'Yerevan'}, {'i': 9, 'token_idx': 13503, 'log_prob': -5.3064727783203125, 'token_word_form': 'Lima'}]\n",
      "{'sub_label': 'Istanbul', 'obj_label': 'Baku', 'masked_sentences': ['Istanbul and [MASK] are twin cities .'], 'uuid': 947}\n",
      "[{'i': 0, 'token_idx': 22206, 'log_prob': -0.33563232421875, 'token_word_form': 'Ankara'}, {'i': 1, 'token_idx': 10585, 'log_prob': -2.665464401245117, 'token_word_form': 'Istanbul'}, {'i': 2, 'token_idx': 25878, 'log_prob': -4.425225257873535, 'token_word_form': 'Thessaloniki'}, {'i': 3, 'token_idx': 7055, 'log_prob': -4.470684051513672, 'token_word_form': 'Athens'}, {'i': 4, 'token_idx': 2123, 'log_prob': -5.080798149108887, 'token_word_form': 'Paris'}, {'i': 5, 'token_idx': 17987, 'log_prob': -5.108146667480469, 'token_word_form': 'Baku'}, {'i': 6, 'token_idx': 16136, 'log_prob': -5.169981956481934, 'token_word_form': 'Beirut'}, {'i': 7, 'token_idx': 11086, 'log_prob': -5.184229850769043, 'token_word_form': 'Cairo'}, {'i': 8, 'token_idx': 26082, 'log_prob': -5.222883224487305, 'token_word_form': 'Yerevan'}, {'i': 9, 'token_idx': 13503, 'log_prob': -5.3064727783203125, 'token_word_form': 'Lima'}]\n",
      "{'sub_label': 'Istanbul', 'obj_label': 'Casablanca', 'masked_sentences': ['Istanbul and [MASK] are twin cities .'], 'uuid': 991}\n",
      "[{'i': 0, 'token_idx': 22206, 'log_prob': -0.33563232421875, 'token_word_form': 'Ankara'}, {'i': 1, 'token_idx': 10585, 'log_prob': -2.66546630859375, 'token_word_form': 'Istanbul'}, {'i': 2, 'token_idx': 25878, 'log_prob': -4.425223350524902, 'token_word_form': 'Thessaloniki'}, {'i': 3, 'token_idx': 7055, 'log_prob': -4.470682144165039, 'token_word_form': 'Athens'}, {'i': 4, 'token_idx': 2123, 'log_prob': -5.080801963806152, 'token_word_form': 'Paris'}, {'i': 5, 'token_idx': 17987, 'log_prob': -5.108146667480469, 'token_word_form': 'Baku'}, {'i': 6, 'token_idx': 16136, 'log_prob': -5.169983863830566, 'token_word_form': 'Beirut'}, {'i': 7, 'token_idx': 11086, 'log_prob': -5.184231758117676, 'token_word_form': 'Cairo'}, {'i': 8, 'token_idx': 26082, 'log_prob': -5.222877502441406, 'token_word_form': 'Yerevan'}, {'i': 9, 'token_idx': 13503, 'log_prob': -5.306474685668945, 'token_word_form': 'Lima'}]\n"
     ]
    }
   ],
   "source": [
    "for ind, row in df.iterrows():\n",
    "    if row['list_of_results']['sample']['sub_label'] == 'Istanbul':\n",
    "        print(row['list_of_results']['sample'])\n",
    "        print(row['list_of_results']['masked_topk']['topk'][:10])\n",
    "    "
   ]
  },
  {
   "cell_type": "code",
   "execution_count": null,
   "metadata": {},
   "outputs": [],
   "source": []
  }
 ],
 "metadata": {
  "kernelspec": {
   "display_name": "Python 3",
   "language": "python",
   "name": "python3"
  },
  "language_info": {
   "codemirror_mode": {
    "name": "ipython",
    "version": 3
   },
   "file_extension": ".py",
   "mimetype": "text/x-python",
   "name": "python",
   "nbconvert_exporter": "python",
   "pygments_lexer": "ipython3",
   "version": "3.7.3"
  }
 },
 "nbformat": 4,
 "nbformat_minor": 4
}
