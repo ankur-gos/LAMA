{
 "cells": [
  {
   "cell_type": "code",
   "execution_count": 1,
   "metadata": {},
   "outputs": [],
   "source": [
    "import pickle\n",
    "import pprint\n",
    "import pandas as pd"
   ]
  },
  {
   "cell_type": "code",
   "execution_count": 2,
   "metadata": {},
   "outputs": [],
   "source": [
    "def open_pkl(file_path):\n",
    "    results = pickle.load(open(file_path, 'rb'))\n",
    "    return results"
   ]
  },
  {
   "cell_type": "code",
   "execution_count": 3,
   "metadata": {},
   "outputs": [],
   "source": [
    "results = open_pkl('./output2/results/bert_large/P937/result.pkl')"
   ]
  },
  {
   "cell_type": "code",
   "execution_count": 4,
   "metadata": {},
   "outputs": [],
   "source": [
    "df = pd.DataFrame(results)"
   ]
  },
  {
   "cell_type": "code",
   "execution_count": 5,
   "metadata": {},
   "outputs": [
    {
     "data": {
      "text/html": [
       "<div>\n",
       "<style scoped>\n",
       "    .dataframe tbody tr th:only-of-type {\n",
       "        vertical-align: middle;\n",
       "    }\n",
       "\n",
       "    .dataframe tbody tr th {\n",
       "        vertical-align: top;\n",
       "    }\n",
       "\n",
       "    .dataframe thead th {\n",
       "        text-align: right;\n",
       "    }\n",
       "</style>\n",
       "<table border=\"1\" class=\"dataframe\">\n",
       "  <thead>\n",
       "    <tr style=\"text-align: right;\">\n",
       "      <th></th>\n",
       "      <th>list_of_results</th>\n",
       "      <th>global_MRR</th>\n",
       "      <th>global_P_at_10</th>\n",
       "    </tr>\n",
       "  </thead>\n",
       "  <tbody>\n",
       "    <tr>\n",
       "      <th>0</th>\n",
       "      <td>{'sample': {'sub_label': 'Superpitcher', 'obj_...</td>\n",
       "      <td>0.379921</td>\n",
       "      <td>0.622642</td>\n",
       "    </tr>\n",
       "    <tr>\n",
       "      <th>1</th>\n",
       "      <td>{'sample': {'sub_label': 'Shakira', 'obj_label...</td>\n",
       "      <td>0.379921</td>\n",
       "      <td>0.622642</td>\n",
       "    </tr>\n",
       "    <tr>\n",
       "      <th>2</th>\n",
       "      <td>{'sample': {'sub_label': 'Erasmus', 'obj_label...</td>\n",
       "      <td>0.379921</td>\n",
       "      <td>0.622642</td>\n",
       "    </tr>\n",
       "    <tr>\n",
       "      <th>3</th>\n",
       "      <td>{'sample': {'sub_label': 'B.o.B', 'obj_label':...</td>\n",
       "      <td>0.379921</td>\n",
       "      <td>0.622642</td>\n",
       "    </tr>\n",
       "    <tr>\n",
       "      <th>4</th>\n",
       "      <td>{'sample': {'sub_label': 'Wols', 'obj_label': ...</td>\n",
       "      <td>0.379921</td>\n",
       "      <td>0.622642</td>\n",
       "    </tr>\n",
       "  </tbody>\n",
       "</table>\n",
       "</div>"
      ],
      "text/plain": [
       "                                     list_of_results  global_MRR  \\\n",
       "0  {'sample': {'sub_label': 'Superpitcher', 'obj_...    0.379921   \n",
       "1  {'sample': {'sub_label': 'Shakira', 'obj_label...    0.379921   \n",
       "2  {'sample': {'sub_label': 'Erasmus', 'obj_label...    0.379921   \n",
       "3  {'sample': {'sub_label': 'B.o.B', 'obj_label':...    0.379921   \n",
       "4  {'sample': {'sub_label': 'Wols', 'obj_label': ...    0.379921   \n",
       "\n",
       "   global_P_at_10  \n",
       "0        0.622642  \n",
       "1        0.622642  \n",
       "2        0.622642  \n",
       "3        0.622642  \n",
       "4        0.622642  "
      ]
     },
     "execution_count": 5,
     "metadata": {},
     "output_type": "execute_result"
    }
   ],
   "source": [
    "df.head()"
   ]
  },
  {
   "cell_type": "code",
   "execution_count": 11,
   "metadata": {},
   "outputs": [
    {
     "data": {
      "text/plain": [
       "{'sub_label': 'Erasmus',\n",
       " 'obj_label': 'Rotterdam',\n",
       " 'masked_sentences': ['Erasmus used to work in [MASK] .'],\n",
       " 'uuid': 151}"
      ]
     },
     "execution_count": 11,
     "metadata": {},
     "output_type": "execute_result"
    }
   ],
   "source": [
    "df.loc[2]['list_of_results']['sample']#['sample']['sub_label'] == 'Valencia']"
   ]
  },
  {
   "cell_type": "code",
   "execution_count": 7,
   "metadata": {},
   "outputs": [],
   "source": [
    "def print_ex(df, query):\n",
    "    for ind, row in df.iterrows():\n",
    "        if row['list_of_results']['sample']['sub_label'] == query:\n",
    "            print(row['list_of_results']['sample'])\n",
    "            print(row['list_of_results']['masked_topk']['topk'][:10])\n",
    "            print('------')"
   ]
  },
  {
   "cell_type": "code",
   "execution_count": 8,
   "metadata": {},
   "outputs": [
    {
     "name": "stdout",
     "output_type": "stream",
     "text": [
      "{'sub_label': 'Trilussa', 'obj_label': 'Rome', 'masked_sentences': ['Trilussa used to work in [MASK] .'], 'uuid': 388}\n",
      "[{'i': 0, 'token_idx': 1498, 'log_prob': -3.8992977142333984, 'token_word_form': 'London'}, {'i': 1, 'token_idx': 1860, 'log_prob': -3.9636940956115723, 'token_word_form': 'Germany'}, {'i': 2, 'token_idx': 6437, 'log_prob': -4.020684242248535, 'token_word_form': 'advertising'}, {'i': 3, 'token_idx': 2070, 'log_prob': -4.095890522003174, 'token_word_form': 'radio'}, {'i': 4, 'token_idx': 2413, 'log_prob': -4.265578269958496, 'token_word_form': 'Italy'}, {'i': 5, 'token_idx': 1778, 'log_prob': -4.320390701293945, 'token_word_form': 'television'}, {'i': 6, 'token_idx': 1726, 'log_prob': -4.357599258422852, 'token_word_form': 'India'}, {'i': 7, 'token_idx': 11593, 'log_prob': -4.412015914916992, 'token_word_form': 'Dubai'}, {'i': 8, 'token_idx': 1699, 'log_prob': -4.42049503326416, 'token_word_form': 'France'}, {'i': 9, 'token_idx': 8601, 'log_prob': -4.508650302886963, 'token_word_form': 'Mumbai'}]\n",
      "------\n"
     ]
    }
   ],
   "source": [
    "print_ex(df, 'Trilussa')"
   ]
  },
  {
   "cell_type": "code",
   "execution_count": 10,
   "metadata": {},
   "outputs": [
    {
     "name": "stdout",
     "output_type": "stream",
     "text": [
      "{'sub_label': 'Shakira', 'obj_label': 'Barcelona', 'masked_sentences': ['Shakira used to work in [MASK] .'], 'uuid': 87}\n",
      "[{'i': 0, 'token_idx': 2123, 'log_prob': -3.839418411254883, 'token_word_form': 'Paris'}, {'i': 1, 'token_idx': 1699, 'log_prob': -3.96530818939209, 'token_word_form': 'France'}, {'i': 2, 'token_idx': 2470, 'log_prob': -4.310113906860352, 'token_word_form': 'Mexico'}, {'i': 3, 'token_idx': 1860, 'log_prob': -4.312699317932129, 'token_word_form': 'Germany'}, {'i': 4, 'token_idx': 2722, 'log_prob': -4.347185134887695, 'token_word_form': 'Spain'}, {'i': 5, 'token_idx': 3524, 'log_prob': -4.360966682434082, 'token_word_form': 'Brazil'}, {'i': 6, 'token_idx': 1498, 'log_prob': -4.508760929107666, 'token_word_form': 'London'}, {'i': 7, 'token_idx': 4916, 'log_prob': -4.621185302734375, 'token_word_form': 'Miami'}, {'i': 8, 'token_idx': 3865, 'log_prob': -4.811749458312988, 'token_word_form': 'Sweden'}, {'i': 9, 'token_idx': 1980, 'log_prob': -4.825217247009277, 'token_word_form': 'Europe'}]\n",
      "------\n"
     ]
    }
   ],
   "source": [
    "print_ex(df, 'Shakira')"
   ]
  },
  {
   "cell_type": "code",
   "execution_count": 13,
   "metadata": {},
   "outputs": [
    {
     "name": "stdout",
     "output_type": "stream",
     "text": [
      "{'sub_label': 'Erasmus', 'obj_label': 'Rotterdam', 'masked_sentences': ['Erasmus used to work in [MASK] .'], 'uuid': 151}\n",
      "[{'i': 0, 'token_idx': 3352, 'log_prob': -2.4411373138427734, 'token_word_form': 'Rome'}, {'i': 1, 'token_idx': 2123, 'log_prob': -3.0995845794677734, 'token_word_form': 'Paris'}, {'i': 2, 'token_idx': 1975, 'log_prob': -3.458375930786133, 'token_word_form': 'China'}, {'i': 3, 'token_idx': 2413, 'log_prob': -3.501643180847168, 'token_word_form': 'Italy'}, {'i': 4, 'token_idx': 1498, 'log_prob': -3.5224971771240234, 'token_word_form': 'London'}, {'i': 5, 'token_idx': 7101, 'log_prob': -3.5361146926879883, 'token_word_form': 'Amsterdam'}, {'i': 6, 'token_idx': 7205, 'log_prob': -3.6959590911865234, 'token_word_form': 'Florence'}, {'i': 7, 'token_idx': 1726, 'log_prob': -3.8634729385375977, 'token_word_form': 'India'}, {'i': 8, 'token_idx': 1860, 'log_prob': -3.9500484466552734, 'token_word_form': 'Germany'}, {'i': 9, 'token_idx': 4498, 'log_prob': -4.085664749145508, 'token_word_form': 'Egypt'}]\n",
      "------\n"
     ]
    }
   ],
   "source": [
    "print_ex(df, 'Erasmus')"
   ]
  },
  {
   "cell_type": "code",
   "execution_count": null,
   "metadata": {},
   "outputs": [],
   "source": []
  }
 ],
 "metadata": {
  "kernelspec": {
   "display_name": "Python 3",
   "language": "python",
   "name": "python3"
  },
  "language_info": {
   "codemirror_mode": {
    "name": "ipython",
    "version": 3
   },
   "file_extension": ".py",
   "mimetype": "text/x-python",
   "name": "python",
   "nbconvert_exporter": "python",
   "pygments_lexer": "ipython3",
   "version": "3.7.3"
  }
 },
 "nbformat": 4,
 "nbformat_minor": 4
}
