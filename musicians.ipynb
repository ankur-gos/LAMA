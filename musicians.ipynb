{
 "cells": [
  {
   "cell_type": "code",
   "execution_count": 16,
   "metadata": {},
   "outputs": [],
   "source": [
    "import pickle\n",
    "import pprint\n",
    "import pandas as pd"
   ]
  },
  {
   "cell_type": "code",
   "execution_count": 17,
   "metadata": {},
   "outputs": [],
   "source": [
    "def open_pkl(file_path):\n",
    "    results = pickle.load(open(file_path, 'rb'))\n",
    "    return results"
   ]
  },
  {
   "cell_type": "code",
   "execution_count": 18,
   "metadata": {},
   "outputs": [],
   "source": [
    "results = open_pkl('./output2/results/bert_large/P1303/result.pkl')"
   ]
  },
  {
   "cell_type": "code",
   "execution_count": 19,
   "metadata": {},
   "outputs": [],
   "source": [
    "df = pd.DataFrame(results)"
   ]
  },
  {
   "cell_type": "code",
   "execution_count": 20,
   "metadata": {},
   "outputs": [
    {
     "data": {
      "text/html": [
       "<div>\n",
       "<style scoped>\n",
       "    .dataframe tbody tr th:only-of-type {\n",
       "        vertical-align: middle;\n",
       "    }\n",
       "\n",
       "    .dataframe tbody tr th {\n",
       "        vertical-align: top;\n",
       "    }\n",
       "\n",
       "    .dataframe thead th {\n",
       "        text-align: right;\n",
       "    }\n",
       "</style>\n",
       "<table border=\"1\" class=\"dataframe\">\n",
       "  <thead>\n",
       "    <tr style=\"text-align: right;\">\n",
       "      <th></th>\n",
       "      <th>list_of_results</th>\n",
       "      <th>global_MRR</th>\n",
       "      <th>global_P_at_10</th>\n",
       "    </tr>\n",
       "  </thead>\n",
       "  <tbody>\n",
       "    <tr>\n",
       "      <th>0</th>\n",
       "      <td>{'sample': {'sub_label': 'Snakefinger', 'obj_l...</td>\n",
       "      <td>0.202797</td>\n",
       "      <td>0.395153</td>\n",
       "    </tr>\n",
       "    <tr>\n",
       "      <th>1</th>\n",
       "      <td>{'sample': {'sub_label': 'Electrosexual', 'obj...</td>\n",
       "      <td>0.202797</td>\n",
       "      <td>0.395153</td>\n",
       "    </tr>\n",
       "    <tr>\n",
       "      <th>2</th>\n",
       "      <td>{'sample': {'sub_label': 'Isadar', 'obj_label'...</td>\n",
       "      <td>0.202797</td>\n",
       "      <td>0.395153</td>\n",
       "    </tr>\n",
       "    <tr>\n",
       "      <th>3</th>\n",
       "      <td>{'sample': {'sub_label': 'Beck', 'obj_label': ...</td>\n",
       "      <td>0.202797</td>\n",
       "      <td>0.395153</td>\n",
       "    </tr>\n",
       "    <tr>\n",
       "      <th>4</th>\n",
       "      <td>{'sample': {'sub_label': 'Phranc', 'obj_label'...</td>\n",
       "      <td>0.202797</td>\n",
       "      <td>0.395153</td>\n",
       "    </tr>\n",
       "  </tbody>\n",
       "</table>\n",
       "</div>"
      ],
      "text/plain": [
       "                                     list_of_results  global_MRR  \\\n",
       "0  {'sample': {'sub_label': 'Snakefinger', 'obj_l...    0.202797   \n",
       "1  {'sample': {'sub_label': 'Electrosexual', 'obj...    0.202797   \n",
       "2  {'sample': {'sub_label': 'Isadar', 'obj_label'...    0.202797   \n",
       "3  {'sample': {'sub_label': 'Beck', 'obj_label': ...    0.202797   \n",
       "4  {'sample': {'sub_label': 'Phranc', 'obj_label'...    0.202797   \n",
       "\n",
       "   global_P_at_10  \n",
       "0        0.395153  \n",
       "1        0.395153  \n",
       "2        0.395153  \n",
       "3        0.395153  \n",
       "4        0.395153  "
      ]
     },
     "execution_count": 20,
     "metadata": {},
     "output_type": "execute_result"
    }
   ],
   "source": [
    "df.head()"
   ]
  },
  {
   "cell_type": "code",
   "execution_count": 33,
   "metadata": {},
   "outputs": [
    {
     "data": {
      "text/plain": [
       "{'sub_label': 'Maurice Vieux',\n",
       " 'obj_label': 'viola',\n",
       " 'masked_sentences': ['Maurice Vieux plays [MASK] .'],\n",
       " 'uuid': 6}"
      ]
     },
     "execution_count": 33,
     "metadata": {},
     "output_type": "execute_result"
    }
   ],
   "source": [
    "df.loc[11]['list_of_results']['sample']#['sample']['sub_label'] == 'Valencia']"
   ]
  },
  {
   "cell_type": "code",
   "execution_count": 34,
   "metadata": {},
   "outputs": [],
   "source": [
    "def print_ex(df, query):\n",
    "    for ind, row in df.iterrows():\n",
    "        if row['list_of_results']['sample']['sub_label'] == query:\n",
    "            print(row['list_of_results']['sample'])\n",
    "            print(row['list_of_results']['masked_topk']['topk'][:10])\n",
    "            print('------')"
   ]
  },
  {
   "cell_type": "code",
   "execution_count": 36,
   "metadata": {},
   "outputs": [
    {
     "name": "stdout",
     "output_type": "stream",
     "text": [
      "{'sub_label': 'Maurice Vieux', 'obj_label': 'viola', 'masked_sentences': ['Maurice Vieux plays [MASK] .'], 'uuid': 6}\n",
      "[{'i': 0, 'token_idx': 2893, 'log_prob': -4.054952621459961, 'token_word_form': 'Jean'}, {'i': 1, 'token_idx': 3267, 'log_prob': -4.062579154968262, 'token_word_form': 'piano'}, {'i': 2, 'token_idx': 4855, 'log_prob': -4.677797794342041, 'token_word_form': 'Pierre'}, {'i': 3, 'token_idx': 20848, 'log_prob': -4.7497148513793945, 'token_word_form': 'Himself'}, {'i': 4, 'token_idx': 2753, 'log_prob': -4.78689432144165, 'token_word_form': 'bass'}, {'i': 5, 'token_idx': 7780, 'log_prob': -4.840646266937256, 'token_word_form': 'conductor'}, {'i': 6, 'token_idx': 13866, 'log_prob': -4.888474464416504, 'token_word_form': 'clarinet'}, {'i': 7, 'token_idx': 6909, 'log_prob': -4.90887975692749, 'token_word_form': 'Jacques'}, {'i': 8, 'token_idx': 7106, 'log_prob': -4.97676944732666, 'token_word_form': 'violin'}, {'i': 9, 'token_idx': 2092, 'log_prob': -5.002987384796143, 'token_word_form': 'guitar'}]\n",
      "------\n"
     ]
    }
   ],
   "source": [
    "print_ex(df, 'Maurice Vieux')"
   ]
  },
  {
   "cell_type": "code",
   "execution_count": 36,
   "metadata": {},
   "outputs": [
    {
     "name": "stdout",
     "output_type": "stream",
     "text": [
      "{'sub_label': 'Valencia', 'obj_label': 'Mainz', 'masked_sentences': ['Valencia and [MASK] are twin cities .'], 'uuid': 0}\n",
      "[{'i': 0, 'token_idx': 6331, 'log_prob': -1.3134403228759766, 'token_word_form': 'Madrid'}, {'i': 1, 'token_idx': 7120, 'log_prob': -1.4839229583740234, 'token_word_form': 'Barcelona'}, {'i': 2, 'token_idx': 13697, 'log_prob': -1.6965398788452148, 'token_word_form': 'Valencia'}, {'i': 3, 'token_idx': 17795, 'log_prob': -3.149786949157715, 'token_word_form': 'Catalonia'}, {'i': 4, 'token_idx': 20768, 'log_prob': -4.091520309448242, 'token_word_form': 'Seville'}, {'i': 5, 'token_idx': 12410, 'log_prob': -4.545838356018066, 'token_word_form': 'Gibraltar'}, {'i': 6, 'token_idx': 17644, 'log_prob': -4.571778297424316, 'token_word_form': 'Granada'}, {'i': 7, 'token_idx': 13459, 'log_prob': -4.657580375671387, 'token_word_form': 'Toledo'}, {'i': 8, 'token_idx': 23947, 'log_prob': -4.701783180236816, 'token_word_form': 'Caracas'}, {'i': 9, 'token_idx': 11600, 'log_prob': -4.920201301574707, 'token_word_form': 'Vic'}]\n",
      "------\n",
      "{'sub_label': 'Valencia', 'obj_label': 'Valencia', 'masked_sentences': ['Valencia and [MASK] are twin cities .'], 'uuid': 303}\n",
      "[{'i': 0, 'token_idx': 6331, 'log_prob': -1.3134384155273438, 'token_word_form': 'Madrid'}, {'i': 1, 'token_idx': 7120, 'log_prob': -1.4839200973510742, 'token_word_form': 'Barcelona'}, {'i': 2, 'token_idx': 13697, 'log_prob': -1.6965465545654297, 'token_word_form': 'Valencia'}, {'i': 3, 'token_idx': 17795, 'log_prob': -3.1497888565063477, 'token_word_form': 'Catalonia'}, {'i': 4, 'token_idx': 20768, 'log_prob': -4.091521263122559, 'token_word_form': 'Seville'}, {'i': 5, 'token_idx': 12410, 'log_prob': -4.545836448669434, 'token_word_form': 'Gibraltar'}, {'i': 6, 'token_idx': 17644, 'log_prob': -4.571778297424316, 'token_word_form': 'Granada'}, {'i': 7, 'token_idx': 13459, 'log_prob': -4.6575822830200195, 'token_word_form': 'Toledo'}, {'i': 8, 'token_idx': 23947, 'log_prob': -4.7017822265625, 'token_word_form': 'Caracas'}, {'i': 9, 'token_idx': 11600, 'log_prob': -4.9202117919921875, 'token_word_form': 'Vic'}]\n",
      "------\n"
     ]
    }
   ],
   "source": [
    "for ind, row in df.iterrows():\n",
    "    if row['list_of_results']['sample']['sub_label'] == 'Valencia':\n",
    "        print(row['list_of_results']['sample'])\n",
    "        print(row['list_of_results']['masked_topk']['topk'][:10])\n",
    "        print('------')"
   ]
  },
  {
   "cell_type": "code",
   "execution_count": 34,
   "metadata": {},
   "outputs": [
    {
     "name": "stdout",
     "output_type": "stream",
     "text": [
      "{'sub_label': 'Istanbul', 'obj_label': 'Athens', 'masked_sentences': ['Istanbul and [MASK] are twin cities .'], 'uuid': 1}\n",
      "[{'i': 0, 'token_idx': 22206, 'log_prob': -0.33563232421875, 'token_word_form': 'Ankara'}, {'i': 1, 'token_idx': 10585, 'log_prob': -2.66546630859375, 'token_word_form': 'Istanbul'}, {'i': 2, 'token_idx': 25878, 'log_prob': -4.425223350524902, 'token_word_form': 'Thessaloniki'}, {'i': 3, 'token_idx': 7055, 'log_prob': -4.470682144165039, 'token_word_form': 'Athens'}, {'i': 4, 'token_idx': 2123, 'log_prob': -5.080801963806152, 'token_word_form': 'Paris'}, {'i': 5, 'token_idx': 17987, 'log_prob': -5.108146667480469, 'token_word_form': 'Baku'}, {'i': 6, 'token_idx': 16136, 'log_prob': -5.169983863830566, 'token_word_form': 'Beirut'}, {'i': 7, 'token_idx': 11086, 'log_prob': -5.184231758117676, 'token_word_form': 'Cairo'}, {'i': 8, 'token_idx': 26082, 'log_prob': -5.222877502441406, 'token_word_form': 'Yerevan'}, {'i': 9, 'token_idx': 13503, 'log_prob': -5.306474685668945, 'token_word_form': 'Lima'}]\n",
      "{'sub_label': 'Istanbul', 'obj_label': 'Guangzhou', 'masked_sentences': ['Istanbul and [MASK] are twin cities .'], 'uuid': 57}\n",
      "[{'i': 0, 'token_idx': 22206, 'log_prob': -0.33563232421875, 'token_word_form': 'Ankara'}, {'i': 1, 'token_idx': 10585, 'log_prob': -2.665464401245117, 'token_word_form': 'Istanbul'}, {'i': 2, 'token_idx': 25878, 'log_prob': -4.425225257873535, 'token_word_form': 'Thessaloniki'}, {'i': 3, 'token_idx': 7055, 'log_prob': -4.470684051513672, 'token_word_form': 'Athens'}, {'i': 4, 'token_idx': 2123, 'log_prob': -5.080798149108887, 'token_word_form': 'Paris'}, {'i': 5, 'token_idx': 17987, 'log_prob': -5.108146667480469, 'token_word_form': 'Baku'}, {'i': 6, 'token_idx': 16136, 'log_prob': -5.169981956481934, 'token_word_form': 'Beirut'}, {'i': 7, 'token_idx': 11086, 'log_prob': -5.184229850769043, 'token_word_form': 'Cairo'}, {'i': 8, 'token_idx': 26082, 'log_prob': -5.222883224487305, 'token_word_form': 'Yerevan'}, {'i': 9, 'token_idx': 13503, 'log_prob': -5.3064727783203125, 'token_word_form': 'Lima'}]\n",
      "{'sub_label': 'Istanbul', 'obj_label': 'Amsterdam', 'masked_sentences': ['Istanbul and [MASK] are twin cities .'], 'uuid': 128}\n",
      "[{'i': 0, 'token_idx': 22206, 'log_prob': -0.33563232421875, 'token_word_form': 'Ankara'}, {'i': 1, 'token_idx': 10585, 'log_prob': -2.66546630859375, 'token_word_form': 'Istanbul'}, {'i': 2, 'token_idx': 25878, 'log_prob': -4.425223350524902, 'token_word_form': 'Thessaloniki'}, {'i': 3, 'token_idx': 7055, 'log_prob': -4.470682144165039, 'token_word_form': 'Athens'}, {'i': 4, 'token_idx': 2123, 'log_prob': -5.080801963806152, 'token_word_form': 'Paris'}, {'i': 5, 'token_idx': 17987, 'log_prob': -5.108146667480469, 'token_word_form': 'Baku'}, {'i': 6, 'token_idx': 16136, 'log_prob': -5.169983863830566, 'token_word_form': 'Beirut'}, {'i': 7, 'token_idx': 11086, 'log_prob': -5.184231758117676, 'token_word_form': 'Cairo'}, {'i': 8, 'token_idx': 26082, 'log_prob': -5.222877502441406, 'token_word_form': 'Yerevan'}, {'i': 9, 'token_idx': 13503, 'log_prob': -5.306474685668945, 'token_word_form': 'Lima'}]\n",
      "{'sub_label': 'Istanbul', 'obj_label': 'Florence', 'masked_sentences': ['Istanbul and [MASK] are twin cities .'], 'uuid': 162}\n",
      "[{'i': 0, 'token_idx': 22206, 'log_prob': -0.33563232421875, 'token_word_form': 'Ankara'}, {'i': 1, 'token_idx': 10585, 'log_prob': -2.66546630859375, 'token_word_form': 'Istanbul'}, {'i': 2, 'token_idx': 25878, 'log_prob': -4.425223350524902, 'token_word_form': 'Thessaloniki'}, {'i': 3, 'token_idx': 7055, 'log_prob': -4.470682144165039, 'token_word_form': 'Athens'}, {'i': 4, 'token_idx': 2123, 'log_prob': -5.080801963806152, 'token_word_form': 'Paris'}, {'i': 5, 'token_idx': 17987, 'log_prob': -5.108146667480469, 'token_word_form': 'Baku'}, {'i': 6, 'token_idx': 16136, 'log_prob': -5.169983863830566, 'token_word_form': 'Beirut'}, {'i': 7, 'token_idx': 11086, 'log_prob': -5.184231758117676, 'token_word_form': 'Cairo'}, {'i': 8, 'token_idx': 26082, 'log_prob': -5.222877502441406, 'token_word_form': 'Yerevan'}, {'i': 9, 'token_idx': 13503, 'log_prob': -5.306474685668945, 'token_word_form': 'Lima'}]\n",
      "{'sub_label': 'Istanbul', 'obj_label': 'Bucharest', 'masked_sentences': ['Istanbul and [MASK] are twin cities .'], 'uuid': 166}\n",
      "[{'i': 0, 'token_idx': 22206, 'log_prob': -0.33563232421875, 'token_word_form': 'Ankara'}, {'i': 1, 'token_idx': 10585, 'log_prob': -2.66546630859375, 'token_word_form': 'Istanbul'}, {'i': 2, 'token_idx': 25878, 'log_prob': -4.425223350524902, 'token_word_form': 'Thessaloniki'}, {'i': 3, 'token_idx': 7055, 'log_prob': -4.470682144165039, 'token_word_form': 'Athens'}, {'i': 4, 'token_idx': 2123, 'log_prob': -5.080801963806152, 'token_word_form': 'Paris'}, {'i': 5, 'token_idx': 17987, 'log_prob': -5.108146667480469, 'token_word_form': 'Baku'}, {'i': 6, 'token_idx': 16136, 'log_prob': -5.169983863830566, 'token_word_form': 'Beirut'}, {'i': 7, 'token_idx': 11086, 'log_prob': -5.184231758117676, 'token_word_form': 'Cairo'}, {'i': 8, 'token_idx': 26082, 'log_prob': -5.222877502441406, 'token_word_form': 'Yerevan'}, {'i': 9, 'token_idx': 13503, 'log_prob': -5.306474685668945, 'token_word_form': 'Lima'}]\n",
      "{'sub_label': 'Istanbul', 'obj_label': 'Cairo', 'masked_sentences': ['Istanbul and [MASK] are twin cities .'], 'uuid': 246}\n",
      "[{'i': 0, 'token_idx': 22206, 'log_prob': -0.33563232421875, 'token_word_form': 'Ankara'}, {'i': 1, 'token_idx': 10585, 'log_prob': -2.665464401245117, 'token_word_form': 'Istanbul'}, {'i': 2, 'token_idx': 25878, 'log_prob': -4.425225257873535, 'token_word_form': 'Thessaloniki'}, {'i': 3, 'token_idx': 7055, 'log_prob': -4.470684051513672, 'token_word_form': 'Athens'}, {'i': 4, 'token_idx': 2123, 'log_prob': -5.080798149108887, 'token_word_form': 'Paris'}, {'i': 5, 'token_idx': 17987, 'log_prob': -5.108146667480469, 'token_word_form': 'Baku'}, {'i': 6, 'token_idx': 16136, 'log_prob': -5.169981956481934, 'token_word_form': 'Beirut'}, {'i': 7, 'token_idx': 11086, 'log_prob': -5.184229850769043, 'token_word_form': 'Cairo'}, {'i': 8, 'token_idx': 26082, 'log_prob': -5.222883224487305, 'token_word_form': 'Yerevan'}, {'i': 9, 'token_idx': 13503, 'log_prob': -5.3064727783203125, 'token_word_form': 'Lima'}]\n",
      "{'sub_label': 'Istanbul', 'obj_label': 'Lahore', 'masked_sentences': ['Istanbul and [MASK] are twin cities .'], 'uuid': 259}\n",
      "[{'i': 0, 'token_idx': 22206, 'log_prob': -0.33563232421875, 'token_word_form': 'Ankara'}, {'i': 1, 'token_idx': 10585, 'log_prob': -2.665464401245117, 'token_word_form': 'Istanbul'}, {'i': 2, 'token_idx': 25878, 'log_prob': -4.425225257873535, 'token_word_form': 'Thessaloniki'}, {'i': 3, 'token_idx': 7055, 'log_prob': -4.470684051513672, 'token_word_form': 'Athens'}, {'i': 4, 'token_idx': 2123, 'log_prob': -5.080798149108887, 'token_word_form': 'Paris'}, {'i': 5, 'token_idx': 17987, 'log_prob': -5.108146667480469, 'token_word_form': 'Baku'}, {'i': 6, 'token_idx': 16136, 'log_prob': -5.169981956481934, 'token_word_form': 'Beirut'}, {'i': 7, 'token_idx': 11086, 'log_prob': -5.184229850769043, 'token_word_form': 'Cairo'}, {'i': 8, 'token_idx': 26082, 'log_prob': -5.222883224487305, 'token_word_form': 'Yerevan'}, {'i': 9, 'token_idx': 13503, 'log_prob': -5.3064727783203125, 'token_word_form': 'Lima'}]\n",
      "{'sub_label': 'Istanbul', 'obj_label': 'Toronto', 'masked_sentences': ['Istanbul and [MASK] are twin cities .'], 'uuid': 351}\n",
      "[{'i': 0, 'token_idx': 22206, 'log_prob': -0.33563232421875, 'token_word_form': 'Ankara'}, {'i': 1, 'token_idx': 10585, 'log_prob': -2.665464401245117, 'token_word_form': 'Istanbul'}, {'i': 2, 'token_idx': 25878, 'log_prob': -4.425225257873535, 'token_word_form': 'Thessaloniki'}, {'i': 3, 'token_idx': 7055, 'log_prob': -4.470684051513672, 'token_word_form': 'Athens'}, {'i': 4, 'token_idx': 2123, 'log_prob': -5.080798149108887, 'token_word_form': 'Paris'}, {'i': 5, 'token_idx': 17987, 'log_prob': -5.108146667480469, 'token_word_form': 'Baku'}, {'i': 6, 'token_idx': 16136, 'log_prob': -5.169981956481934, 'token_word_form': 'Beirut'}, {'i': 7, 'token_idx': 11086, 'log_prob': -5.184229850769043, 'token_word_form': 'Cairo'}, {'i': 8, 'token_idx': 26082, 'log_prob': -5.222883224487305, 'token_word_form': 'Yerevan'}, {'i': 9, 'token_idx': 13503, 'log_prob': -5.3064727783203125, 'token_word_form': 'Lima'}]\n",
      "{'sub_label': 'Istanbul', 'obj_label': 'Cologne', 'masked_sentences': ['Istanbul and [MASK] are twin cities .'], 'uuid': 354}\n",
      "[{'i': 0, 'token_idx': 22206, 'log_prob': -0.33563232421875, 'token_word_form': 'Ankara'}, {'i': 1, 'token_idx': 10585, 'log_prob': -2.665464401245117, 'token_word_form': 'Istanbul'}, {'i': 2, 'token_idx': 25878, 'log_prob': -4.425225257873535, 'token_word_form': 'Thessaloniki'}, {'i': 3, 'token_idx': 7055, 'log_prob': -4.470684051513672, 'token_word_form': 'Athens'}, {'i': 4, 'token_idx': 2123, 'log_prob': -5.080798149108887, 'token_word_form': 'Paris'}, {'i': 5, 'token_idx': 17987, 'log_prob': -5.108146667480469, 'token_word_form': 'Baku'}, {'i': 6, 'token_idx': 16136, 'log_prob': -5.169981956481934, 'token_word_form': 'Beirut'}, {'i': 7, 'token_idx': 11086, 'log_prob': -5.184229850769043, 'token_word_form': 'Cairo'}, {'i': 8, 'token_idx': 26082, 'log_prob': -5.222883224487305, 'token_word_form': 'Yerevan'}, {'i': 9, 'token_idx': 13503, 'log_prob': -5.3064727783203125, 'token_word_form': 'Lima'}]\n",
      "{'sub_label': 'Istanbul', 'obj_label': 'Vilnius', 'masked_sentences': ['Istanbul and [MASK] are twin cities .'], 'uuid': 368}\n",
      "[{'i': 0, 'token_idx': 22206, 'log_prob': -0.33563232421875, 'token_word_form': 'Ankara'}, {'i': 1, 'token_idx': 10585, 'log_prob': -2.665464401245117, 'token_word_form': 'Istanbul'}, {'i': 2, 'token_idx': 25878, 'log_prob': -4.425225257873535, 'token_word_form': 'Thessaloniki'}, {'i': 3, 'token_idx': 7055, 'log_prob': -4.470684051513672, 'token_word_form': 'Athens'}, {'i': 4, 'token_idx': 2123, 'log_prob': -5.080798149108887, 'token_word_form': 'Paris'}, {'i': 5, 'token_idx': 17987, 'log_prob': -5.108146667480469, 'token_word_form': 'Baku'}, {'i': 6, 'token_idx': 16136, 'log_prob': -5.169981956481934, 'token_word_form': 'Beirut'}, {'i': 7, 'token_idx': 11086, 'log_prob': -5.184229850769043, 'token_word_form': 'Cairo'}, {'i': 8, 'token_idx': 26082, 'log_prob': -5.222883224487305, 'token_word_form': 'Yerevan'}, {'i': 9, 'token_idx': 13503, 'log_prob': -5.3064727783203125, 'token_word_form': 'Lima'}]\n",
      "{'sub_label': 'Istanbul', 'obj_label': 'Sarajevo', 'masked_sentences': ['Istanbul and [MASK] are twin cities .'], 'uuid': 427}\n",
      "[{'i': 0, 'token_idx': 22206, 'log_prob': -0.33563232421875, 'token_word_form': 'Ankara'}, {'i': 1, 'token_idx': 10585, 'log_prob': -2.665464401245117, 'token_word_form': 'Istanbul'}, {'i': 2, 'token_idx': 25878, 'log_prob': -4.425225257873535, 'token_word_form': 'Thessaloniki'}, {'i': 3, 'token_idx': 7055, 'log_prob': -4.470684051513672, 'token_word_form': 'Athens'}, {'i': 4, 'token_idx': 2123, 'log_prob': -5.080798149108887, 'token_word_form': 'Paris'}, {'i': 5, 'token_idx': 17987, 'log_prob': -5.108146667480469, 'token_word_form': 'Baku'}, {'i': 6, 'token_idx': 16136, 'log_prob': -5.169981956481934, 'token_word_form': 'Beirut'}, {'i': 7, 'token_idx': 11086, 'log_prob': -5.184229850769043, 'token_word_form': 'Cairo'}, {'i': 8, 'token_idx': 26082, 'log_prob': -5.222883224487305, 'token_word_form': 'Yerevan'}, {'i': 9, 'token_idx': 13503, 'log_prob': -5.3064727783203125, 'token_word_form': 'Lima'}]\n",
      "{'sub_label': 'Istanbul', 'obj_label': 'Stockholm', 'masked_sentences': ['Istanbul and [MASK] are twin cities .'], 'uuid': 552}\n",
      "[{'i': 0, 'token_idx': 22206, 'log_prob': -0.33563232421875, 'token_word_form': 'Ankara'}, {'i': 1, 'token_idx': 10585, 'log_prob': -2.665464401245117, 'token_word_form': 'Istanbul'}, {'i': 2, 'token_idx': 25878, 'log_prob': -4.425225257873535, 'token_word_form': 'Thessaloniki'}, {'i': 3, 'token_idx': 7055, 'log_prob': -4.470684051513672, 'token_word_form': 'Athens'}, {'i': 4, 'token_idx': 2123, 'log_prob': -5.080798149108887, 'token_word_form': 'Paris'}, {'i': 5, 'token_idx': 17987, 'log_prob': -5.108146667480469, 'token_word_form': 'Baku'}, {'i': 6, 'token_idx': 16136, 'log_prob': -5.169981956481934, 'token_word_form': 'Beirut'}, {'i': 7, 'token_idx': 11086, 'log_prob': -5.184229850769043, 'token_word_form': 'Cairo'}, {'i': 8, 'token_idx': 26082, 'log_prob': -5.222883224487305, 'token_word_form': 'Yerevan'}, {'i': 9, 'token_idx': 13503, 'log_prob': -5.3064727783203125, 'token_word_form': 'Lima'}]\n",
      "{'sub_label': 'Istanbul', 'obj_label': 'Beirut', 'masked_sentences': ['Istanbul and [MASK] are twin cities .'], 'uuid': 568}\n",
      "[{'i': 0, 'token_idx': 22206, 'log_prob': -0.33563232421875, 'token_word_form': 'Ankara'}, {'i': 1, 'token_idx': 10585, 'log_prob': -2.665464401245117, 'token_word_form': 'Istanbul'}, {'i': 2, 'token_idx': 25878, 'log_prob': -4.425225257873535, 'token_word_form': 'Thessaloniki'}, {'i': 3, 'token_idx': 7055, 'log_prob': -4.470684051513672, 'token_word_form': 'Athens'}, {'i': 4, 'token_idx': 2123, 'log_prob': -5.080798149108887, 'token_word_form': 'Paris'}, {'i': 5, 'token_idx': 17987, 'log_prob': -5.108146667480469, 'token_word_form': 'Baku'}, {'i': 6, 'token_idx': 16136, 'log_prob': -5.169981956481934, 'token_word_form': 'Beirut'}, {'i': 7, 'token_idx': 11086, 'log_prob': -5.184229850769043, 'token_word_form': 'Cairo'}, {'i': 8, 'token_idx': 26082, 'log_prob': -5.222883224487305, 'token_word_form': 'Yerevan'}, {'i': 9, 'token_idx': 13503, 'log_prob': -5.3064727783203125, 'token_word_form': 'Lima'}]\n",
      "{'sub_label': 'Istanbul', 'obj_label': 'Dubai', 'masked_sentences': ['Istanbul and [MASK] are twin cities .'], 'uuid': 687}\n",
      "[{'i': 0, 'token_idx': 22206, 'log_prob': -0.33563232421875, 'token_word_form': 'Ankara'}, {'i': 1, 'token_idx': 10585, 'log_prob': -2.665464401245117, 'token_word_form': 'Istanbul'}, {'i': 2, 'token_idx': 25878, 'log_prob': -4.425225257873535, 'token_word_form': 'Thessaloniki'}, {'i': 3, 'token_idx': 7055, 'log_prob': -4.470684051513672, 'token_word_form': 'Athens'}, {'i': 4, 'token_idx': 2123, 'log_prob': -5.080798149108887, 'token_word_form': 'Paris'}, {'i': 5, 'token_idx': 17987, 'log_prob': -5.108146667480469, 'token_word_form': 'Baku'}, {'i': 6, 'token_idx': 16136, 'log_prob': -5.169981956481934, 'token_word_form': 'Beirut'}, {'i': 7, 'token_idx': 11086, 'log_prob': -5.184229850769043, 'token_word_form': 'Cairo'}, {'i': 8, 'token_idx': 26082, 'log_prob': -5.222883224487305, 'token_word_form': 'Yerevan'}, {'i': 9, 'token_idx': 13503, 'log_prob': -5.3064727783203125, 'token_word_form': 'Lima'}]\n",
      "{'sub_label': 'Istanbul', 'obj_label': 'Vienna', 'masked_sentences': ['Istanbul and [MASK] are twin cities .'], 'uuid': 699}\n",
      "[{'i': 0, 'token_idx': 22206, 'log_prob': -0.33563232421875, 'token_word_form': 'Ankara'}, {'i': 1, 'token_idx': 10585, 'log_prob': -2.665464401245117, 'token_word_form': 'Istanbul'}, {'i': 2, 'token_idx': 25878, 'log_prob': -4.425225257873535, 'token_word_form': 'Thessaloniki'}, {'i': 3, 'token_idx': 7055, 'log_prob': -4.470684051513672, 'token_word_form': 'Athens'}, {'i': 4, 'token_idx': 2123, 'log_prob': -5.080798149108887, 'token_word_form': 'Paris'}, {'i': 5, 'token_idx': 17987, 'log_prob': -5.108146667480469, 'token_word_form': 'Baku'}, {'i': 6, 'token_idx': 16136, 'log_prob': -5.169981956481934, 'token_word_form': 'Beirut'}, {'i': 7, 'token_idx': 11086, 'log_prob': -5.184229850769043, 'token_word_form': 'Cairo'}, {'i': 8, 'token_idx': 26082, 'log_prob': -5.222883224487305, 'token_word_form': 'Yerevan'}, {'i': 9, 'token_idx': 13503, 'log_prob': -5.3064727783203125, 'token_word_form': 'Lima'}]\n",
      "{'sub_label': 'Istanbul', 'obj_label': 'Tbilisi', 'masked_sentences': ['Istanbul and [MASK] are twin cities .'], 'uuid': 707}\n",
      "[{'i': 0, 'token_idx': 22206, 'log_prob': -0.33563232421875, 'token_word_form': 'Ankara'}, {'i': 1, 'token_idx': 10585, 'log_prob': -2.665464401245117, 'token_word_form': 'Istanbul'}, {'i': 2, 'token_idx': 25878, 'log_prob': -4.425225257873535, 'token_word_form': 'Thessaloniki'}, {'i': 3, 'token_idx': 7055, 'log_prob': -4.470684051513672, 'token_word_form': 'Athens'}, {'i': 4, 'token_idx': 2123, 'log_prob': -5.080798149108887, 'token_word_form': 'Paris'}, {'i': 5, 'token_idx': 17987, 'log_prob': -5.108146667480469, 'token_word_form': 'Baku'}, {'i': 6, 'token_idx': 16136, 'log_prob': -5.169981956481934, 'token_word_form': 'Beirut'}, {'i': 7, 'token_idx': 11086, 'log_prob': -5.184229850769043, 'token_word_form': 'Cairo'}, {'i': 8, 'token_idx': 26082, 'log_prob': -5.222883224487305, 'token_word_form': 'Yerevan'}, {'i': 9, 'token_idx': 13503, 'log_prob': -5.3064727783203125, 'token_word_form': 'Lima'}]\n",
      "{'sub_label': 'Istanbul', 'obj_label': 'Tirana', 'masked_sentences': ['Istanbul and [MASK] are twin cities .'], 'uuid': 713}\n",
      "[{'i': 0, 'token_idx': 22206, 'log_prob': -0.33563232421875, 'token_word_form': 'Ankara'}, {'i': 1, 'token_idx': 10585, 'log_prob': -2.665464401245117, 'token_word_form': 'Istanbul'}, {'i': 2, 'token_idx': 25878, 'log_prob': -4.425225257873535, 'token_word_form': 'Thessaloniki'}, {'i': 3, 'token_idx': 7055, 'log_prob': -4.470684051513672, 'token_word_form': 'Athens'}, {'i': 4, 'token_idx': 2123, 'log_prob': -5.080798149108887, 'token_word_form': 'Paris'}, {'i': 5, 'token_idx': 17987, 'log_prob': -5.108146667480469, 'token_word_form': 'Baku'}, {'i': 6, 'token_idx': 16136, 'log_prob': -5.169981956481934, 'token_word_form': 'Beirut'}, {'i': 7, 'token_idx': 11086, 'log_prob': -5.184229850769043, 'token_word_form': 'Cairo'}, {'i': 8, 'token_idx': 26082, 'log_prob': -5.222883224487305, 'token_word_form': 'Yerevan'}, {'i': 9, 'token_idx': 13503, 'log_prob': -5.3064727783203125, 'token_word_form': 'Lima'}]\n",
      "{'sub_label': 'Istanbul', 'obj_label': 'Warsaw', 'masked_sentences': ['Istanbul and [MASK] are twin cities .'], 'uuid': 726}\n",
      "[{'i': 0, 'token_idx': 22206, 'log_prob': -0.33563232421875, 'token_word_form': 'Ankara'}, {'i': 1, 'token_idx': 10585, 'log_prob': -2.665464401245117, 'token_word_form': 'Istanbul'}, {'i': 2, 'token_idx': 25878, 'log_prob': -4.425225257873535, 'token_word_form': 'Thessaloniki'}, {'i': 3, 'token_idx': 7055, 'log_prob': -4.470684051513672, 'token_word_form': 'Athens'}, {'i': 4, 'token_idx': 2123, 'log_prob': -5.080798149108887, 'token_word_form': 'Paris'}, {'i': 5, 'token_idx': 17987, 'log_prob': -5.108146667480469, 'token_word_form': 'Baku'}, {'i': 6, 'token_idx': 16136, 'log_prob': -5.169981956481934, 'token_word_form': 'Beirut'}, {'i': 7, 'token_idx': 11086, 'log_prob': -5.184229850769043, 'token_word_form': 'Cairo'}, {'i': 8, 'token_idx': 26082, 'log_prob': -5.222883224487305, 'token_word_form': 'Yerevan'}, {'i': 9, 'token_idx': 13503, 'log_prob': -5.3064727783203125, 'token_word_form': 'Lima'}]\n",
      "{'sub_label': 'Istanbul', 'obj_label': 'Baku', 'masked_sentences': ['Istanbul and [MASK] are twin cities .'], 'uuid': 947}\n",
      "[{'i': 0, 'token_idx': 22206, 'log_prob': -0.33563232421875, 'token_word_form': 'Ankara'}, {'i': 1, 'token_idx': 10585, 'log_prob': -2.665464401245117, 'token_word_form': 'Istanbul'}, {'i': 2, 'token_idx': 25878, 'log_prob': -4.425225257873535, 'token_word_form': 'Thessaloniki'}, {'i': 3, 'token_idx': 7055, 'log_prob': -4.470684051513672, 'token_word_form': 'Athens'}, {'i': 4, 'token_idx': 2123, 'log_prob': -5.080798149108887, 'token_word_form': 'Paris'}, {'i': 5, 'token_idx': 17987, 'log_prob': -5.108146667480469, 'token_word_form': 'Baku'}, {'i': 6, 'token_idx': 16136, 'log_prob': -5.169981956481934, 'token_word_form': 'Beirut'}, {'i': 7, 'token_idx': 11086, 'log_prob': -5.184229850769043, 'token_word_form': 'Cairo'}, {'i': 8, 'token_idx': 26082, 'log_prob': -5.222883224487305, 'token_word_form': 'Yerevan'}, {'i': 9, 'token_idx': 13503, 'log_prob': -5.3064727783203125, 'token_word_form': 'Lima'}]\n",
      "{'sub_label': 'Istanbul', 'obj_label': 'Casablanca', 'masked_sentences': ['Istanbul and [MASK] are twin cities .'], 'uuid': 991}\n",
      "[{'i': 0, 'token_idx': 22206, 'log_prob': -0.33563232421875, 'token_word_form': 'Ankara'}, {'i': 1, 'token_idx': 10585, 'log_prob': -2.66546630859375, 'token_word_form': 'Istanbul'}, {'i': 2, 'token_idx': 25878, 'log_prob': -4.425223350524902, 'token_word_form': 'Thessaloniki'}, {'i': 3, 'token_idx': 7055, 'log_prob': -4.470682144165039, 'token_word_form': 'Athens'}, {'i': 4, 'token_idx': 2123, 'log_prob': -5.080801963806152, 'token_word_form': 'Paris'}, {'i': 5, 'token_idx': 17987, 'log_prob': -5.108146667480469, 'token_word_form': 'Baku'}, {'i': 6, 'token_idx': 16136, 'log_prob': -5.169983863830566, 'token_word_form': 'Beirut'}, {'i': 7, 'token_idx': 11086, 'log_prob': -5.184231758117676, 'token_word_form': 'Cairo'}, {'i': 8, 'token_idx': 26082, 'log_prob': -5.222877502441406, 'token_word_form': 'Yerevan'}, {'i': 9, 'token_idx': 13503, 'log_prob': -5.306474685668945, 'token_word_form': 'Lima'}]\n"
     ]
    }
   ],
   "source": [
    "for ind, row in df.iterrows():\n",
    "    if row['list_of_results']['sample']['sub_label'] == 'Istanbul':\n",
    "        print(row['list_of_results']['sample'])\n",
    "        print(row['list_of_results']['masked_topk']['topk'][:10])\n",
    "    "
   ]
  },
  {
   "cell_type": "code",
   "execution_count": null,
   "metadata": {},
   "outputs": [],
   "source": []
  }
 ],
 "metadata": {
  "kernelspec": {
   "display_name": "Python 3",
   "language": "python",
   "name": "python3"
  },
  "language_info": {
   "codemirror_mode": {
    "name": "ipython",
    "version": 3
   },
   "file_extension": ".py",
   "mimetype": "text/x-python",
   "name": "python",
   "nbconvert_exporter": "python",
   "pygments_lexer": "ipython3",
   "version": "3.7.3"
  }
 },
 "nbformat": 4,
 "nbformat_minor": 4
}
